{
  "cells": [
    {
      "cell_type": "markdown",
      "metadata": {
        "id": "4pr5L__QTSOx"
      },
      "source": [
        "# Naive Bayes Project\n",
        "\n",
        "**Naive sentiment analysis**\n",
        "\n",
        "This is a simple project using Naive Bayes Classifier and Scikit-learn to create a Google Play store reviews classifier (Sentiment Analysis) in Python. It will categorize user reviews as good or bad. In this dataset, it would be used the 23 most popular mobile apps, and only two columns."
      ]
    },
    {
      "cell_type": "markdown",
      "metadata": {
        "id": "ZswoKBCipn4P"
      },
      "source": [
        "## Importing Libraries"
      ]
    },
    {
      "cell_type": "code",
      "execution_count": 1,
      "metadata": {
        "id": "c7CDFNFCTPGC"
      },
      "outputs": [],
      "source": [
        "### Load libraries and modules ###\n",
        "# Dataframes and matrices ----------------------------------------------\n",
        "import pandas as pd\n",
        "import numpy as np\n",
        "# Graphics -------------------------------------------------------------\n",
        "import matplotlib.pyplot as plt\n",
        "# Machine learning -----------------------------------------------------\n",
        "from sklearn.model_selection import train_test_split\n",
        "from sklearn.feature_extraction.text import TfidfVectorizer\n",
        "from sklearn.feature_extraction.text import TfidfTransformer\n",
        "from sklearn.feature_extraction.text import CountVectorizer\n",
        "from sklearn.naive_bayes import MultinomialNB\n",
        "from sklearn.naive_bayes import GaussianNB\n",
        "# Preprocessing --------------------------------------------------------\n",
        "from sklearn.pipeline import Pipeline\n",
        "# Metrics --------------------------------------------------------------\n",
        "from sklearn.metrics import confusion_matrix\n",
        "from sklearn.metrics import ConfusionMatrixDisplay\n",
        "from sklearn.metrics import classification_report\n",
        "from sklearn.metrics import mean_absolute_error\n",
        "from sklearn.metrics import accuracy_score, precision_score, recall_score"
      ]
    },
    {
      "cell_type": "markdown",
      "metadata": {
        "id": "2ZCr9f_bpyI4"
      },
      "source": [
        "## Loading the dataset"
      ]
    },
    {
      "cell_type": "code",
      "execution_count": 2,
      "metadata": {
        "id": "ZQm7jpKMTfmv"
      },
      "outputs": [],
      "source": [
        "# Loading the dataset\n",
        "df_raw = pd.read_csv('https://raw.githubusercontent.com/4GeeksAcademy/naive-bayes-project-tutorial/main/playstore_reviews_dataset.csv')\n",
        "# Create a copy of the original dataset\n",
        "df = df_raw.copy()"
      ]
    },
    {
      "cell_type": "markdown",
      "metadata": {
        "id": "TiwjseIdp8c3"
      },
      "source": [
        "## Data Exploration\n",
        "\n"
      ]
    },
    {
      "cell_type": "markdown",
      "metadata": {
        "id": "QGjsuM5B3tcy"
      },
      "source": [
        "Data Dictionary:\n"
      ]
    },
    {
      "cell_type": "code",
      "execution_count": 3,
      "metadata": {
        "colab": {
          "base_uri": "https://localhost:8080/"
        },
        "id": "ZGcrkqJNvt21",
        "outputId": "63e24a18-3aca-44e6-e26d-2fd0f7341b55"
      },
      "outputs": [
        {
          "output_type": "stream",
          "name": "stdout",
          "text": [
            "<class 'pandas.core.frame.DataFrame'>\n",
            "RangeIndex: 891 entries, 0 to 890\n",
            "Data columns (total 3 columns):\n",
            " #   Column        Non-Null Count  Dtype \n",
            "---  ------        --------------  ----- \n",
            " 0   package_name  891 non-null    object\n",
            " 1   review        891 non-null    object\n",
            " 2   polarity      891 non-null    int64 \n",
            "dtypes: int64(1), object(2)\n",
            "memory usage: 21.0+ KB\n"
          ]
        }
      ],
      "source": [
        "df_raw.info()"
      ]
    },
    {
      "cell_type": "code",
      "execution_count": 4,
      "metadata": {
        "colab": {
          "base_uri": "https://localhost:8080/",
          "height": 363
        },
        "id": "AHUPkAz2vx13",
        "outputId": "48181f31-1513-4936-810a-03322215e4bb"
      },
      "outputs": [
        {
          "output_type": "execute_result",
          "data": {
            "text/plain": [
              "                package_name  \\\n",
              "672        com.hamrokeyboard   \n",
              "670        com.hamrokeyboard   \n",
              "776      org.mozilla.firefox   \n",
              "667        com.hamrokeyboard   \n",
              "631        com.uc.browser.en   \n",
              "679        com.hamrokeyboard   \n",
              "663        com.hamrokeyboard   \n",
              "654        com.uc.browser.en   \n",
              "701    com.opera.mini.native   \n",
              "379  com.google.android.talk   \n",
              "\n",
              "                                                review  polarity  \n",
              "672   not for me i thought its better than multi la...         0  \n",
              "670   auto capitalization needed. it doesn't automa...         0  \n",
              "776   shab i have firefox on all of my devices and ...         0  \n",
              "667   fix some things one letter is capitalized and...         0  \n",
              "631   fast on slow phones this seems to be the fast...         1  \n",
              "679   hamro keyboard this is good app no doubt abou...         1  \n",
              "663   good app and nice try dear, developers great ...         1  \n",
              "654   very smooth i'd say it's much better than jus...         1  \n",
              "701   still the best mini i like the new look and n...         1  \n",
              "379    i can't send messages because in my settings...         0  "
            ],
            "text/html": [
              "\n",
              "  <div id=\"df-3f0dc2d3-909b-473d-8829-2f70bb323684\">\n",
              "    <div class=\"colab-df-container\">\n",
              "      <div>\n",
              "<style scoped>\n",
              "    .dataframe tbody tr th:only-of-type {\n",
              "        vertical-align: middle;\n",
              "    }\n",
              "\n",
              "    .dataframe tbody tr th {\n",
              "        vertical-align: top;\n",
              "    }\n",
              "\n",
              "    .dataframe thead th {\n",
              "        text-align: right;\n",
              "    }\n",
              "</style>\n",
              "<table border=\"1\" class=\"dataframe\">\n",
              "  <thead>\n",
              "    <tr style=\"text-align: right;\">\n",
              "      <th></th>\n",
              "      <th>package_name</th>\n",
              "      <th>review</th>\n",
              "      <th>polarity</th>\n",
              "    </tr>\n",
              "  </thead>\n",
              "  <tbody>\n",
              "    <tr>\n",
              "      <th>672</th>\n",
              "      <td>com.hamrokeyboard</td>\n",
              "      <td>not for me i thought its better than multi la...</td>\n",
              "      <td>0</td>\n",
              "    </tr>\n",
              "    <tr>\n",
              "      <th>670</th>\n",
              "      <td>com.hamrokeyboard</td>\n",
              "      <td>auto capitalization needed. it doesn't automa...</td>\n",
              "      <td>0</td>\n",
              "    </tr>\n",
              "    <tr>\n",
              "      <th>776</th>\n",
              "      <td>org.mozilla.firefox</td>\n",
              "      <td>shab i have firefox on all of my devices and ...</td>\n",
              "      <td>0</td>\n",
              "    </tr>\n",
              "    <tr>\n",
              "      <th>667</th>\n",
              "      <td>com.hamrokeyboard</td>\n",
              "      <td>fix some things one letter is capitalized and...</td>\n",
              "      <td>0</td>\n",
              "    </tr>\n",
              "    <tr>\n",
              "      <th>631</th>\n",
              "      <td>com.uc.browser.en</td>\n",
              "      <td>fast on slow phones this seems to be the fast...</td>\n",
              "      <td>1</td>\n",
              "    </tr>\n",
              "    <tr>\n",
              "      <th>679</th>\n",
              "      <td>com.hamrokeyboard</td>\n",
              "      <td>hamro keyboard this is good app no doubt abou...</td>\n",
              "      <td>1</td>\n",
              "    </tr>\n",
              "    <tr>\n",
              "      <th>663</th>\n",
              "      <td>com.hamrokeyboard</td>\n",
              "      <td>good app and nice try dear, developers great ...</td>\n",
              "      <td>1</td>\n",
              "    </tr>\n",
              "    <tr>\n",
              "      <th>654</th>\n",
              "      <td>com.uc.browser.en</td>\n",
              "      <td>very smooth i'd say it's much better than jus...</td>\n",
              "      <td>1</td>\n",
              "    </tr>\n",
              "    <tr>\n",
              "      <th>701</th>\n",
              "      <td>com.opera.mini.native</td>\n",
              "      <td>still the best mini i like the new look and n...</td>\n",
              "      <td>1</td>\n",
              "    </tr>\n",
              "    <tr>\n",
              "      <th>379</th>\n",
              "      <td>com.google.android.talk</td>\n",
              "      <td>i can't send messages because in my settings...</td>\n",
              "      <td>0</td>\n",
              "    </tr>\n",
              "  </tbody>\n",
              "</table>\n",
              "</div>\n",
              "      <button class=\"colab-df-convert\" onclick=\"convertToInteractive('df-3f0dc2d3-909b-473d-8829-2f70bb323684')\"\n",
              "              title=\"Convert this dataframe to an interactive table.\"\n",
              "              style=\"display:none;\">\n",
              "        \n",
              "  <svg xmlns=\"http://www.w3.org/2000/svg\" height=\"24px\"viewBox=\"0 0 24 24\"\n",
              "       width=\"24px\">\n",
              "    <path d=\"M0 0h24v24H0V0z\" fill=\"none\"/>\n",
              "    <path d=\"M18.56 5.44l.94 2.06.94-2.06 2.06-.94-2.06-.94-.94-2.06-.94 2.06-2.06.94zm-11 1L8.5 8.5l.94-2.06 2.06-.94-2.06-.94L8.5 2.5l-.94 2.06-2.06.94zm10 10l.94 2.06.94-2.06 2.06-.94-2.06-.94-.94-2.06-.94 2.06-2.06.94z\"/><path d=\"M17.41 7.96l-1.37-1.37c-.4-.4-.92-.59-1.43-.59-.52 0-1.04.2-1.43.59L10.3 9.45l-7.72 7.72c-.78.78-.78 2.05 0 2.83L4 21.41c.39.39.9.59 1.41.59.51 0 1.02-.2 1.41-.59l7.78-7.78 2.81-2.81c.8-.78.8-2.07 0-2.86zM5.41 20L4 18.59l7.72-7.72 1.47 1.35L5.41 20z\"/>\n",
              "  </svg>\n",
              "      </button>\n",
              "      \n",
              "  <style>\n",
              "    .colab-df-container {\n",
              "      display:flex;\n",
              "      flex-wrap:wrap;\n",
              "      gap: 12px;\n",
              "    }\n",
              "\n",
              "    .colab-df-convert {\n",
              "      background-color: #E8F0FE;\n",
              "      border: none;\n",
              "      border-radius: 50%;\n",
              "      cursor: pointer;\n",
              "      display: none;\n",
              "      fill: #1967D2;\n",
              "      height: 32px;\n",
              "      padding: 0 0 0 0;\n",
              "      width: 32px;\n",
              "    }\n",
              "\n",
              "    .colab-df-convert:hover {\n",
              "      background-color: #E2EBFA;\n",
              "      box-shadow: 0px 1px 2px rgba(60, 64, 67, 0.3), 0px 1px 3px 1px rgba(60, 64, 67, 0.15);\n",
              "      fill: #174EA6;\n",
              "    }\n",
              "\n",
              "    [theme=dark] .colab-df-convert {\n",
              "      background-color: #3B4455;\n",
              "      fill: #D2E3FC;\n",
              "    }\n",
              "\n",
              "    [theme=dark] .colab-df-convert:hover {\n",
              "      background-color: #434B5C;\n",
              "      box-shadow: 0px 1px 3px 1px rgba(0, 0, 0, 0.15);\n",
              "      filter: drop-shadow(0px 1px 2px rgba(0, 0, 0, 0.3));\n",
              "      fill: #FFFFFF;\n",
              "    }\n",
              "  </style>\n",
              "\n",
              "      <script>\n",
              "        const buttonEl =\n",
              "          document.querySelector('#df-3f0dc2d3-909b-473d-8829-2f70bb323684 button.colab-df-convert');\n",
              "        buttonEl.style.display =\n",
              "          google.colab.kernel.accessAllowed ? 'block' : 'none';\n",
              "\n",
              "        async function convertToInteractive(key) {\n",
              "          const element = document.querySelector('#df-3f0dc2d3-909b-473d-8829-2f70bb323684');\n",
              "          const dataTable =\n",
              "            await google.colab.kernel.invokeFunction('convertToInteractive',\n",
              "                                                     [key], {});\n",
              "          if (!dataTable) return;\n",
              "\n",
              "          const docLinkHtml = 'Like what you see? Visit the ' +\n",
              "            '<a target=\"_blank\" href=https://colab.research.google.com/notebooks/data_table.ipynb>data table notebook</a>'\n",
              "            + ' to learn more about interactive tables.';\n",
              "          element.innerHTML = '';\n",
              "          dataTable['output_type'] = 'display_data';\n",
              "          await google.colab.output.renderOutput(dataTable, element);\n",
              "          const docLink = document.createElement('div');\n",
              "          docLink.innerHTML = docLinkHtml;\n",
              "          element.appendChild(docLink);\n",
              "        }\n",
              "      </script>\n",
              "    </div>\n",
              "  </div>\n",
              "  "
            ]
          },
          "metadata": {},
          "execution_count": 4
        }
      ],
      "source": [
        "df_raw.sample(10)"
      ]
    },
    {
      "cell_type": "markdown",
      "source": [
        "## Preprocess of the data"
      ],
      "metadata": {
        "id": "YPRxMLXHJklF"
      }
    },
    {
      "cell_type": "markdown",
      "source": [
        "Preprocess of the data by eliminating the package_name column and putting all reviews in lower case."
      ],
      "metadata": {
        "id": "TiHQ4eJB1c7e"
      }
    },
    {
      "cell_type": "code",
      "source": [
        "# Remove package name as it's not relevant\n",
        "df = df.drop('package_name', axis=1)\n",
        "\n",
        "# Convert text to lowercase\n",
        "df['review'] = df['review'].str.strip().str.lower()"
      ],
      "metadata": {
        "id": "fuzk7XiS1M_c"
      },
      "execution_count": 5,
      "outputs": []
    },
    {
      "cell_type": "code",
      "source": [
        "df.head(5)"
      ],
      "metadata": {
        "colab": {
          "base_uri": "https://localhost:8080/",
          "height": 206
        },
        "id": "IGhEImz11j9T",
        "outputId": "ec684765-f3fb-49f0-ab56-d159f2d5045f"
      },
      "execution_count": 6,
      "outputs": [
        {
          "output_type": "execute_result",
          "data": {
            "text/plain": [
              "                                              review  polarity\n",
              "0  privacy at least put some option appear offlin...         0\n",
              "1  messenger issues ever since the last update, i...         0\n",
              "2  profile any time my wife or anybody has more t...         0\n",
              "3  the new features suck for those of us who don'...         0\n",
              "4  forced reload on uploading pic on replying com...         0"
            ],
            "text/html": [
              "\n",
              "  <div id=\"df-f7d46a8c-7b70-4e63-bfd9-b4ad63e1e8d4\">\n",
              "    <div class=\"colab-df-container\">\n",
              "      <div>\n",
              "<style scoped>\n",
              "    .dataframe tbody tr th:only-of-type {\n",
              "        vertical-align: middle;\n",
              "    }\n",
              "\n",
              "    .dataframe tbody tr th {\n",
              "        vertical-align: top;\n",
              "    }\n",
              "\n",
              "    .dataframe thead th {\n",
              "        text-align: right;\n",
              "    }\n",
              "</style>\n",
              "<table border=\"1\" class=\"dataframe\">\n",
              "  <thead>\n",
              "    <tr style=\"text-align: right;\">\n",
              "      <th></th>\n",
              "      <th>review</th>\n",
              "      <th>polarity</th>\n",
              "    </tr>\n",
              "  </thead>\n",
              "  <tbody>\n",
              "    <tr>\n",
              "      <th>0</th>\n",
              "      <td>privacy at least put some option appear offlin...</td>\n",
              "      <td>0</td>\n",
              "    </tr>\n",
              "    <tr>\n",
              "      <th>1</th>\n",
              "      <td>messenger issues ever since the last update, i...</td>\n",
              "      <td>0</td>\n",
              "    </tr>\n",
              "    <tr>\n",
              "      <th>2</th>\n",
              "      <td>profile any time my wife or anybody has more t...</td>\n",
              "      <td>0</td>\n",
              "    </tr>\n",
              "    <tr>\n",
              "      <th>3</th>\n",
              "      <td>the new features suck for those of us who don'...</td>\n",
              "      <td>0</td>\n",
              "    </tr>\n",
              "    <tr>\n",
              "      <th>4</th>\n",
              "      <td>forced reload on uploading pic on replying com...</td>\n",
              "      <td>0</td>\n",
              "    </tr>\n",
              "  </tbody>\n",
              "</table>\n",
              "</div>\n",
              "      <button class=\"colab-df-convert\" onclick=\"convertToInteractive('df-f7d46a8c-7b70-4e63-bfd9-b4ad63e1e8d4')\"\n",
              "              title=\"Convert this dataframe to an interactive table.\"\n",
              "              style=\"display:none;\">\n",
              "        \n",
              "  <svg xmlns=\"http://www.w3.org/2000/svg\" height=\"24px\"viewBox=\"0 0 24 24\"\n",
              "       width=\"24px\">\n",
              "    <path d=\"M0 0h24v24H0V0z\" fill=\"none\"/>\n",
              "    <path d=\"M18.56 5.44l.94 2.06.94-2.06 2.06-.94-2.06-.94-.94-2.06-.94 2.06-2.06.94zm-11 1L8.5 8.5l.94-2.06 2.06-.94-2.06-.94L8.5 2.5l-.94 2.06-2.06.94zm10 10l.94 2.06.94-2.06 2.06-.94-2.06-.94-.94-2.06-.94 2.06-2.06.94z\"/><path d=\"M17.41 7.96l-1.37-1.37c-.4-.4-.92-.59-1.43-.59-.52 0-1.04.2-1.43.59L10.3 9.45l-7.72 7.72c-.78.78-.78 2.05 0 2.83L4 21.41c.39.39.9.59 1.41.59.51 0 1.02-.2 1.41-.59l7.78-7.78 2.81-2.81c.8-.78.8-2.07 0-2.86zM5.41 20L4 18.59l7.72-7.72 1.47 1.35L5.41 20z\"/>\n",
              "  </svg>\n",
              "      </button>\n",
              "      \n",
              "  <style>\n",
              "    .colab-df-container {\n",
              "      display:flex;\n",
              "      flex-wrap:wrap;\n",
              "      gap: 12px;\n",
              "    }\n",
              "\n",
              "    .colab-df-convert {\n",
              "      background-color: #E8F0FE;\n",
              "      border: none;\n",
              "      border-radius: 50%;\n",
              "      cursor: pointer;\n",
              "      display: none;\n",
              "      fill: #1967D2;\n",
              "      height: 32px;\n",
              "      padding: 0 0 0 0;\n",
              "      width: 32px;\n",
              "    }\n",
              "\n",
              "    .colab-df-convert:hover {\n",
              "      background-color: #E2EBFA;\n",
              "      box-shadow: 0px 1px 2px rgba(60, 64, 67, 0.3), 0px 1px 3px 1px rgba(60, 64, 67, 0.15);\n",
              "      fill: #174EA6;\n",
              "    }\n",
              "\n",
              "    [theme=dark] .colab-df-convert {\n",
              "      background-color: #3B4455;\n",
              "      fill: #D2E3FC;\n",
              "    }\n",
              "\n",
              "    [theme=dark] .colab-df-convert:hover {\n",
              "      background-color: #434B5C;\n",
              "      box-shadow: 0px 1px 3px 1px rgba(0, 0, 0, 0.15);\n",
              "      filter: drop-shadow(0px 1px 2px rgba(0, 0, 0, 0.3));\n",
              "      fill: #FFFFFF;\n",
              "    }\n",
              "  </style>\n",
              "\n",
              "      <script>\n",
              "        const buttonEl =\n",
              "          document.querySelector('#df-f7d46a8c-7b70-4e63-bfd9-b4ad63e1e8d4 button.colab-df-convert');\n",
              "        buttonEl.style.display =\n",
              "          google.colab.kernel.accessAllowed ? 'block' : 'none';\n",
              "\n",
              "        async function convertToInteractive(key) {\n",
              "          const element = document.querySelector('#df-f7d46a8c-7b70-4e63-bfd9-b4ad63e1e8d4');\n",
              "          const dataTable =\n",
              "            await google.colab.kernel.invokeFunction('convertToInteractive',\n",
              "                                                     [key], {});\n",
              "          if (!dataTable) return;\n",
              "\n",
              "          const docLinkHtml = 'Like what you see? Visit the ' +\n",
              "            '<a target=\"_blank\" href=https://colab.research.google.com/notebooks/data_table.ipynb>data table notebook</a>'\n",
              "            + ' to learn more about interactive tables.';\n",
              "          element.innerHTML = '';\n",
              "          dataTable['output_type'] = 'display_data';\n",
              "          await google.colab.output.renderOutput(dataTable, element);\n",
              "          const docLink = document.createElement('div');\n",
              "          docLink.innerHTML = docLinkHtml;\n",
              "          element.appendChild(docLink);\n",
              "        }\n",
              "      </script>\n",
              "    </div>\n",
              "  </div>\n",
              "  "
            ]
          },
          "metadata": {},
          "execution_count": 6
        }
      ]
    },
    {
      "cell_type": "markdown",
      "metadata": {
        "id": "pKhpAViFqrY3"
      },
      "source": [
        "## Construction of the model and results"
      ]
    },
    {
      "cell_type": "code",
      "execution_count": 7,
      "metadata": {
        "id": "9mZENv3Qqu04"
      },
      "outputs": [],
      "source": [
        "#Separate predictor from target\n",
        "X = df['review']\n",
        "y = df['polarity']"
      ]
    },
    {
      "cell_type": "code",
      "execution_count": 8,
      "metadata": {
        "colab": {
          "base_uri": "https://localhost:8080/"
        },
        "id": "ggo6e4nXSPhr",
        "outputId": "2c051c89-f173-4bb4-8819-d0395168aaf2"
      },
      "outputs": [
        {
          "output_type": "stream",
          "name": "stdout",
          "text": [
            "(623,) (268,) (623,) (268,)\n"
          ]
        }
      ],
      "source": [
        "# Spliting the dataset into training and testing\n",
        "X_train, X_test, y_train, y_test = train_test_split(X,y,test_size=0.3,random_state=42)\n",
        "print(X_train.shape,X_test.shape,y_train.shape,y_test.shape)"
      ]
    },
    {
      "cell_type": "markdown",
      "source": [
        "### Multinomial Naïve Bayes"
      ],
      "metadata": {
        "id": "Zrxj3zZ0Uitg"
      }
    },
    {
      "cell_type": "code",
      "source": [
        "# Vectorize text reviews to numbers\n",
        "vec = CountVectorizer(stop_words='english')\n",
        "X_train_t = vec.fit_transform(X_train).toarray()\n",
        "X_test_t = vec.transform(X_test).toarray()"
      ],
      "metadata": {
        "id": "u8zAIvHgMptX"
      },
      "execution_count": 9,
      "outputs": []
    },
    {
      "cell_type": "code",
      "source": [
        "mnb =  MultinomialNB()\n",
        "mnb.fit(X_train_t, y_train)"
      ],
      "metadata": {
        "id": "KcwxYpetF0lD",
        "colab": {
          "base_uri": "https://localhost:8080/"
        },
        "outputId": "5574b1cf-8328-489a-c98e-5008425dcdf4"
      },
      "execution_count": 10,
      "outputs": [
        {
          "output_type": "execute_result",
          "data": {
            "text/plain": [
              "MultinomialNB()"
            ]
          },
          "metadata": {},
          "execution_count": 10
        }
      ]
    },
    {
      "cell_type": "code",
      "source": [
        "y_pred_mnb = mnb.predict(X_test_t)"
      ],
      "metadata": {
        "id": "DiLVE4RoCVNa"
      },
      "execution_count": 11,
      "outputs": []
    },
    {
      "cell_type": "markdown",
      "source": [
        "#### Prediction"
      ],
      "metadata": {
        "id": "zio7VbpZXqKf"
      }
    },
    {
      "cell_type": "code",
      "source": [
        "mnb.predict(vec.transform(['Love this app simply awesome!']))"
      ],
      "metadata": {
        "colab": {
          "base_uri": "https://localhost:8080/"
        },
        "id": "9DMdbtznLMha",
        "outputId": "81011019-61c5-48e8-b0a6-13328597424a"
      },
      "execution_count": 12,
      "outputs": [
        {
          "output_type": "execute_result",
          "data": {
            "text/plain": [
              "array([1])"
            ]
          },
          "metadata": {},
          "execution_count": 12
        }
      ]
    },
    {
      "cell_type": "markdown",
      "source": [
        "#### Model Evaluation"
      ],
      "metadata": {
        "id": "eu9kMdAk_FgR"
      }
    },
    {
      "cell_type": "code",
      "source": [
        "cm = confusion_matrix(y_test, y_pred_mnb, labels=mnb.classes_)\n",
        "disp = ConfusionMatrixDisplay(confusion_matrix=cm,\n",
        "display_labels=mnb.classes_)\n",
        "disp.plot()\n",
        "plt.show()\n",
        "print(\"\\n\")\n",
        "print(classification_report(y_test,y_pred_mnb))\n",
        "print(\"\\n\")\n",
        "print(\"Multinomial Naive Bayes Mean absolute error:\", mean_absolute_error(y_test, y_pred_mnb))\n",
        "print(\"\\n\")\n",
        "print('Multinomial Naive Bayes Train Accuracy = ',accuracy_score(y_train,mnb.predict(X_train_t)))\n",
        "print('Multinomial Naive Bayes Test Accuracy = ',accuracy_score(y_test,mnb.predict(X_test_t)))\n",
        "print(\"\\n\")\n",
        "print(\"Multinomial Naive Bayes Precision score:\",precision_score(y_test, y_pred_mnb))\n",
        "print(\"\\n\")\n",
        "print(\"Multinomial Naive Bayes Recall score:\",recall_score(y_test, y_pred_mnb))"
      ],
      "metadata": {
        "colab": {
          "base_uri": "https://localhost:8080/",
          "height": 696
        },
        "id": "8xsCUQ5qAfj6",
        "outputId": "6b423011-b599-456c-a66c-19f4675d1841"
      },
      "execution_count": 13,
      "outputs": [
        {
          "output_type": "display_data",
          "data": {
            "text/plain": [
              "<Figure size 432x288 with 2 Axes>"
            ],
            "image/png": "[encoded data removed]"
          },
          "metadata": {
            "needs_background": "light"
          }
        },
        {
          "output_type": "stream",
          "name": "stdout",
          "text": [
            "\n",
            "\n",
            "              precision    recall  f1-score   support\n",
            "\n",
            "           0       0.85      0.89      0.87       188\n",
            "           1       0.71      0.64      0.67        80\n",
            "\n",
            "    accuracy                           0.81       268\n",
            "   macro avg       0.78      0.76      0.77       268\n",
            "weighted avg       0.81      0.81      0.81       268\n",
            "\n",
            "\n",
            "\n",
            "Multinomial Naive Bayes Mean absolute error: 0.1865671641791045\n",
            "\n",
            "\n",
            "Multinomial Naive Bayes Train Accuracy =  0.9662921348314607\n",
            "Multinomial Naive Bayes Test Accuracy =  0.8134328358208955\n",
            "\n",
            "\n",
            "Multinomial Naive Bayes Precision score: 0.7083333333333334\n",
            "\n",
            "\n",
            "Multinomial Naive Bayes Recall score: 0.6375\n"
          ]
        }
      ]
    },
    {
      "cell_type": "markdown",
      "source": [
        "### Gaussian Naïve Bayes"
      ],
      "metadata": {
        "id": "FcN2y1nNUyHE"
      }
    },
    {
      "cell_type": "code",
      "source": [
        "gnb = GaussianNB()\n",
        "gnb.fit(X_train_t, y_train)"
      ],
      "metadata": {
        "colab": {
          "base_uri": "https://localhost:8080/"
        },
        "id": "MZBXHBqgT3tM",
        "outputId": "cfc2c5de-54ba-4494-d61a-004ab9e73b83"
      },
      "execution_count": 14,
      "outputs": [
        {
          "output_type": "execute_result",
          "data": {
            "text/plain": [
              "GaussianNB()"
            ]
          },
          "metadata": {},
          "execution_count": 14
        }
      ]
    },
    {
      "cell_type": "code",
      "source": [
        "y_pred_gnb = gnb.predict(X_test_t)"
      ],
      "metadata": {
        "id": "La3XRKt6V6qn"
      },
      "execution_count": 15,
      "outputs": []
    },
    {
      "cell_type": "markdown",
      "source": [
        "#### Model Evaluation"
      ],
      "metadata": {
        "id": "aXl-Rxw-YHdC"
      }
    },
    {
      "cell_type": "code",
      "source": [
        "cm = confusion_matrix(y_test, y_pred_gnb, labels=gnb.classes_)\n",
        "disp = ConfusionMatrixDisplay(confusion_matrix=cm,\n",
        "display_labels=gnb.classes_)\n",
        "disp.plot()\n",
        "plt.show()\n",
        "print(\"\\n\")\n",
        "print(classification_report(y_test,y_pred_gnb))\n",
        "print(\"\\n\")\n",
        "print(\"Gaussian Naive Bayes Mean absolute error:\", mean_absolute_error(y_test, y_pred_gnb))\n",
        "print(\"\\n\")\n",
        "print('Gaussian Naive Bayes Train Accuracy = ',accuracy_score(y_train,gnb.predict(X_train_t)))\n",
        "print('Gaussian Naive Bayes Test Accuracy = ',accuracy_score(y_test,gnb.predict(X_test_t)))\n",
        "print(\"\\n\")\n",
        "print(\"Gaussian Naive Bayes Precision score:\",precision_score(y_test, y_pred_gnb))\n",
        "print(\"\\n\")\n",
        "print(\"Gaussian Naive Bayes Recall score:\",recall_score(y_test, y_pred_gnb))"
      ],
      "metadata": {
        "colab": {
          "base_uri": "https://localhost:8080/",
          "height": 699
        },
        "id": "NH-cj73yUKPG",
        "outputId": "4579f7a8-2a0e-4464-e171-1bf3bac6d35a"
      },
      "execution_count": 16,
      "outputs": [
        {
          "output_type": "display_data",
          "data": {
            "text/plain": [
              "<Figure size 432x288 with 2 Axes>"
            ],
            "image/png": "[encoded data removed]"
          },
          "metadata": {
            "needs_background": "light"
          }
        },
        {
          "output_type": "stream",
          "name": "stdout",
          "text": [
            "\n",
            "\n",
            "              precision    recall  f1-score   support\n",
            "\n",
            "           0       0.86      0.86      0.86       188\n",
            "           1       0.66      0.66      0.66        80\n",
            "\n",
            "    accuracy                           0.80       268\n",
            "   macro avg       0.76      0.76      0.76       268\n",
            "weighted avg       0.80      0.80      0.80       268\n",
            "\n",
            "\n",
            "\n",
            "Gaussian Naive Bayes Mean absolute error: 0.20149253731343283\n",
            "\n",
            "\n",
            "Gaussian Naive Bayes Train Accuracy =  0.985553772070626\n",
            "Gaussian Naive Bayes Test Accuracy =  0.7985074626865671\n",
            "\n",
            "\n",
            "Gaussian Naive Bayes Precision score: 0.6625\n",
            "\n",
            "\n",
            "Gaussian Naive Bayes Recall score: 0.6625\n"
          ]
        }
      ]
    },
    {
      "cell_type": "markdown",
      "source": [
        "### Multinomial Naive Bayes using CountVectorizer and TfidfTransformer as preprocessing steps"
      ],
      "metadata": {
        "id": "qQ-YX0PkVNrA"
      }
    },
    {
      "cell_type": "code",
      "source": [
        "# Create a pipeline with the two preprocessing steps and the modeling step with the algorithm chosen\n",
        "mnb_clf = Pipeline([('vect', CountVectorizer()), ('tfidf', TfidfTransformer()), ('clf', MultinomialNB())])\n",
        "mnb_clf.fit(X_train, y_train)"
      ],
      "metadata": {
        "colab": {
          "base_uri": "https://localhost:8080/"
        },
        "id": "o3pcRE5zUoBn",
        "outputId": "38c7b87e-643b-47dd-9ed5-d3928f2af23e"
      },
      "execution_count": 17,
      "outputs": [
        {
          "output_type": "execute_result",
          "data": {
            "text/plain": [
              "Pipeline(steps=[('vect', CountVectorizer()), ('tfidf', TfidfTransformer()),\n",
              "                ('clf', MultinomialNB())])"
            ]
          },
          "metadata": {},
          "execution_count": 17
        }
      ]
    },
    {
      "cell_type": "code",
      "source": [
        "y_pred_clf = mnb_clf.predict(X_test)"
      ],
      "metadata": {
        "id": "rf9k2FdxU6hS"
      },
      "execution_count": 18,
      "outputs": []
    },
    {
      "cell_type": "markdown",
      "source": [
        "#### Model Evaluation"
      ],
      "metadata": {
        "id": "NdwzmT8OZO8X"
      }
    },
    {
      "cell_type": "code",
      "source": [
        "cm = confusion_matrix(y_test, y_pred_clf, labels=mnb_clf.classes_)\n",
        "disp = ConfusionMatrixDisplay(confusion_matrix=cm,\n",
        "display_labels=mnb_clf.classes_)\n",
        "disp.plot()\n",
        "plt.show()\n",
        "print(\"\\n\")\n",
        "print(classification_report(y_test,y_pred_clf))\n",
        "print(\"\\n\")\n",
        "print(\"Mean absolute error:\", mean_absolute_error(y_test, y_pred_clf))\n",
        "print(\"\\n\")\n",
        "print('Train Accuracy = ',accuracy_score(y_train,mnb_clf.predict(X_train)))\n",
        "print('Test Accuracy = ',accuracy_score(y_test,mnb_clf.predict(X_test)))\n",
        "print(\"\\n\")\n",
        "print(\"Precision score:\",precision_score(y_test, y_pred_clf))\n",
        "print(\"\\n\")\n",
        "print(\"Recall score:\",recall_score(y_test, y_pred_clf))"
      ],
      "metadata": {
        "colab": {
          "base_uri": "https://localhost:8080/",
          "height": 696
        },
        "id": "LUoeyu8OZSKK",
        "outputId": "8cc50a12-e883-402d-ce02-29a1ec682121"
      },
      "execution_count": 19,
      "outputs": [
        {
          "output_type": "display_data",
          "data": {
            "text/plain": [
              "<Figure size 432x288 with 2 Axes>"
            ],
            "image/png": "[encoded data removed]"
          },
          "metadata": {
            "needs_background": "light"
          }
        },
        {
          "output_type": "stream",
          "name": "stdout",
          "text": [
            "\n",
            "\n",
            "              precision    recall  f1-score   support\n",
            "\n",
            "           0       0.75      1.00      0.86       188\n",
            "           1       1.00      0.23      0.37        80\n",
            "\n",
            "    accuracy                           0.77       268\n",
            "   macro avg       0.88      0.61      0.61       268\n",
            "weighted avg       0.83      0.77      0.71       268\n",
            "\n",
            "\n",
            "\n",
            "Mean absolute error: 0.23134328358208955\n",
            "\n",
            "\n",
            "Train Accuracy =  0.8154093097913323\n",
            "Test Accuracy =  0.7686567164179104\n",
            "\n",
            "\n",
            "Precision score: 1.0\n",
            "\n",
            "\n",
            "Recall score: 0.225\n"
          ]
        }
      ]
    }
  ],
  "metadata": {
    "colab": {
      "collapsed_sections": [],
      "toc_visible": true,
      "provenance": []
    },
    "kernelspec": {
      "display_name": "Python 3",
      "name": "python3"
    },
    "language_info": {
      "name": "python"
    }
  },
  "nbformat": 4,
  "nbformat_minor": 0
}